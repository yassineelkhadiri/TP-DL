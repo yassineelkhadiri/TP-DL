{
 "cells": [
  {
   "cell_type": "markdown",
   "id": "46bf0628",
   "metadata": {},
   "source": [
    "TP2:\n",
    "Deep learning : Fully connected layers\n",
    "Members: \n",
    "Sarah Benabdallah - Ben Zinouba Mahdi - Mohamed Yassine Elkhadhiri\n",
    "Summary :\n",
    "In this notebook, we'll utilize Keras' fully connected layers to compare their performance on toy data to perceptron techniques, and then we'll use it on iris, digits, and faces datasets to study the limitations of these networks."
   ]
  },
  {
   "cell_type": "markdown",
   "id": "aa47df81",
   "metadata": {},
   "source": [
    "Install Librairies"
   ]
  },
  {
   "cell_type": "code",
   "execution_count": 2,
   "id": "f3b3c3d5",
   "metadata": {},
   "outputs": [
    {
     "name": "stdout",
     "output_type": "stream",
     "text": [
      "Collecting tensorflow\n",
      "  Using cached tensorflow-2.8.0-cp38-cp38-win_amd64.whl (438.0 MB)\n",
      "Collecting flatbuffers>=1.12\n",
      "  Downloading flatbuffers-2.0-py2.py3-none-any.whl (26 kB)\n",
      "Collecting astunparse>=1.6.0\n",
      "  Downloading astunparse-1.6.3-py2.py3-none-any.whl (12 kB)\n",
      "Collecting tensorflow-io-gcs-filesystem>=0.23.1\n",
      "  Downloading tensorflow_io_gcs_filesystem-0.24.0-cp38-cp38-win_amd64.whl (1.5 MB)\n",
      "Collecting termcolor>=1.1.0\n",
      "  Downloading termcolor-1.1.0.tar.gz (3.9 kB)\n",
      "Collecting tf-estimator-nightly==2.8.0.dev2021122109\n",
      "  Downloading tf_estimator_nightly-2.8.0.dev2021122109-py2.py3-none-any.whl (462 kB)\n",
      "Requirement already satisfied: wrapt>=1.11.0 in c:\\users\\sarah benabdallah\\anaconda3\\lib\\site-packages (from tensorflow) (1.12.1)\n",
      "Requirement already satisfied: keras<2.9,>=2.8.0rc0 in c:\\users\\sarah benabdallah\\anaconda3\\lib\\site-packages (from tensorflow) (2.8.0)\n",
      "Collecting gast>=0.2.1\n",
      "  Downloading gast-0.5.3-py3-none-any.whl (19 kB)\n",
      "Requirement already satisfied: six>=1.12.0 in c:\\users\\sarah benabdallah\\anaconda3\\lib\\site-packages (from tensorflow) (1.15.0)\n",
      "Requirement already satisfied: h5py>=2.9.0 in c:\\users\\sarah benabdallah\\anaconda3\\lib\\site-packages (from tensorflow) (2.10.0)\n",
      "Collecting keras-preprocessing>=1.1.1\n",
      "  Downloading Keras_Preprocessing-1.1.2-py2.py3-none-any.whl (42 kB)\n",
      "Requirement already satisfied: setuptools in c:\\users\\sarah benabdallah\\anaconda3\\lib\\site-packages (from tensorflow) (52.0.0.post20210125)\n",
      "Collecting tensorboard<2.9,>=2.8\n",
      "  Downloading tensorboard-2.8.0-py3-none-any.whl (5.8 MB)\n",
      "Collecting protobuf>=3.9.2\n",
      "  Downloading protobuf-3.19.4-cp38-cp38-win_amd64.whl (895 kB)\n",
      "Collecting grpcio<2.0,>=1.24.3\n",
      "  Downloading grpcio-1.44.0-cp38-cp38-win_amd64.whl (3.4 MB)\n",
      "Collecting google-pasta>=0.1.1\n",
      "  Downloading google_pasta-0.2.0-py3-none-any.whl (57 kB)\n",
      "Collecting opt-einsum>=2.3.2\n",
      "  Downloading opt_einsum-3.3.0-py3-none-any.whl (65 kB)\n",
      "Collecting absl-py>=0.4.0\n",
      "  Downloading absl_py-1.0.0-py3-none-any.whl (126 kB)\n",
      "Requirement already satisfied: typing-extensions>=3.6.6 in c:\\users\\sarah benabdallah\\anaconda3\\lib\\site-packages (from tensorflow) (3.7.4.3)\n",
      "Collecting libclang>=9.0.1\n",
      "  Downloading libclang-13.0.0-py2.py3-none-win_amd64.whl (13.9 MB)\n",
      "Requirement already satisfied: numpy>=1.20 in c:\\users\\sarah benabdallah\\anaconda3\\lib\\site-packages (from tensorflow) (1.20.1)\n",
      "Requirement already satisfied: wheel<1.0,>=0.23.0 in c:\\users\\sarah benabdallah\\anaconda3\\lib\\site-packages (from astunparse>=1.6.0->tensorflow) (0.36.2)\n",
      "Requirement already satisfied: requests<3,>=2.21.0 in c:\\users\\sarah benabdallah\\anaconda3\\lib\\site-packages (from tensorboard<2.9,>=2.8->tensorflow) (2.25.1)\n",
      "Collecting tensorboard-data-server<0.7.0,>=0.6.0\n",
      "  Downloading tensorboard_data_server-0.6.1-py3-none-any.whl (2.4 kB)\n",
      "Collecting google-auth-oauthlib<0.5,>=0.4.1\n",
      "  Downloading google_auth_oauthlib-0.4.6-py2.py3-none-any.whl (18 kB)\n",
      "Collecting markdown>=2.6.8\n",
      "  Downloading Markdown-3.3.6-py3-none-any.whl (97 kB)\n",
      "Requirement already satisfied: werkzeug>=0.11.15 in c:\\users\\sarah benabdallah\\anaconda3\\lib\\site-packages (from tensorboard<2.9,>=2.8->tensorflow) (1.0.1)\n",
      "Collecting tensorboard-plugin-wit>=1.6.0\n",
      "  Downloading tensorboard_plugin_wit-1.8.1-py3-none-any.whl (781 kB)\n",
      "Collecting google-auth<3,>=1.6.3\n",
      "  Downloading google_auth-2.6.2-py2.py3-none-any.whl (156 kB)\n",
      "Collecting rsa<5,>=3.1.4\n",
      "  Downloading rsa-4.8-py3-none-any.whl (39 kB)\n",
      "Collecting cachetools<6.0,>=2.0.0\n",
      "  Downloading cachetools-5.0.0-py3-none-any.whl (9.1 kB)\n",
      "Collecting pyasn1-modules>=0.2.1\n",
      "  Downloading pyasn1_modules-0.2.8-py2.py3-none-any.whl (155 kB)\n",
      "Collecting requests-oauthlib>=0.7.0\n",
      "  Downloading requests_oauthlib-1.3.1-py2.py3-none-any.whl (23 kB)\n",
      "Collecting importlib-metadata>=4.4\n",
      "  Downloading importlib_metadata-4.11.3-py3-none-any.whl (18 kB)\n",
      "Requirement already satisfied: zipp>=0.5 in c:\\users\\sarah benabdallah\\anaconda3\\lib\\site-packages (from importlib-metadata>=4.4->markdown>=2.6.8->tensorboard<2.9,>=2.8->tensorflow) (3.4.1)\n",
      "Collecting pyasn1<0.5.0,>=0.4.6\n",
      "  Downloading pyasn1-0.4.8-py2.py3-none-any.whl (77 kB)\n",
      "Requirement already satisfied: chardet<5,>=3.0.2 in c:\\users\\sarah benabdallah\\anaconda3\\lib\\site-packages (from requests<3,>=2.21.0->tensorboard<2.9,>=2.8->tensorflow) (4.0.0)\n",
      "Requirement already satisfied: certifi>=2017.4.17 in c:\\users\\sarah benabdallah\\anaconda3\\lib\\site-packages (from requests<3,>=2.21.0->tensorboard<2.9,>=2.8->tensorflow) (2020.12.5)\n",
      "Requirement already satisfied: urllib3<1.27,>=1.21.1 in c:\\users\\sarah benabdallah\\anaconda3\\lib\\site-packages (from requests<3,>=2.21.0->tensorboard<2.9,>=2.8->tensorflow) (1.26.4)\n",
      "Requirement already satisfied: idna<3,>=2.5 in c:\\users\\sarah benabdallah\\anaconda3\\lib\\site-packages (from requests<3,>=2.21.0->tensorboard<2.9,>=2.8->tensorflow) (2.10)\n",
      "Collecting oauthlib>=3.0.0\n",
      "  Downloading oauthlib-3.2.0-py3-none-any.whl (151 kB)\n",
      "Building wheels for collected packages: termcolor\n",
      "  Building wheel for termcolor (setup.py): started\n",
      "  Building wheel for termcolor (setup.py): finished with status 'done'\n",
      "  Created wheel for termcolor: filename=termcolor-1.1.0-py3-none-any.whl size=4829 sha256=df3d1f8c68ac7f94d7d6719f76c2a70105ea03440ecd655a30e98bea547d10fb\n",
      "  Stored in directory: c:\\users\\sarah benabdallah\\appdata\\local\\pip\\cache\\wheels\\a0\\16\\9c\\5473df82468f958445479c59e784896fa24f4a5fc024b0f501\n",
      "Successfully built termcolor\n",
      "Installing collected packages: pyasn1, rsa, pyasn1-modules, oauthlib, cachetools, requests-oauthlib, importlib-metadata, google-auth, tensorboard-plugin-wit, tensorboard-data-server, protobuf, markdown, grpcio, google-auth-oauthlib, absl-py, tf-estimator-nightly, termcolor, tensorflow-io-gcs-filesystem, tensorboard, opt-einsum, libclang, keras-preprocessing, google-pasta, gast, flatbuffers, astunparse, tensorflow\n",
      "  Attempting uninstall: importlib-metadata\n",
      "    Found existing installation: importlib-metadata 3.10.0\n",
      "    Uninstalling importlib-metadata-3.10.0:\n",
      "      Successfully uninstalled importlib-metadata-3.10.0\n",
      "Successfully installed absl-py-1.0.0 astunparse-1.6.3 cachetools-5.0.0 flatbuffers-2.0 gast-0.5.3 google-auth-2.6.2 google-auth-oauthlib-0.4.6 google-pasta-0.2.0 grpcio-1.44.0 importlib-metadata-4.11.3 keras-preprocessing-1.1.2 libclang-13.0.0 markdown-3.3.6 oauthlib-3.2.0 opt-einsum-3.3.0 protobuf-3.19.4 pyasn1-0.4.8 pyasn1-modules-0.2.8 requests-oauthlib-1.3.1 rsa-4.8 tensorboard-2.8.0 tensorboard-data-server-0.6.1 tensorboard-plugin-wit-1.8.1 tensorflow-2.8.0 tensorflow-io-gcs-filesystem-0.24.0 termcolor-1.1.0 tf-estimator-nightly-2.8.0.dev2021122109\n",
      "Requirement already satisfied: numpy in c:\\users\\sarah benabdallah\\anaconda3\\lib\\site-packages (1.20.1)\n",
      "Requirement already satisfied: scikit-learn in c:\\users\\sarah benabdallah\\anaconda3\\lib\\site-packages (0.24.1)\n",
      "Requirement already satisfied: joblib>=0.11 in c:\\users\\sarah benabdallah\\anaconda3\\lib\\site-packages (from scikit-learn) (1.0.1)\n",
      "Requirement already satisfied: scipy>=0.19.1 in c:\\users\\sarah benabdallah\\anaconda3\\lib\\site-packages (from scikit-learn) (1.6.2)\n",
      "Requirement already satisfied: numpy>=1.13.3 in c:\\users\\sarah benabdallah\\anaconda3\\lib\\site-packages (from scikit-learn) (1.20.1)\n",
      "Requirement already satisfied: threadpoolctl>=2.0.0 in c:\\users\\sarah benabdallah\\anaconda3\\lib\\site-packages (from scikit-learn) (2.1.0)\n",
      "Requirement already satisfied: matplotlib in c:\\users\\sarah benabdallah\\anaconda3\\lib\\site-packages (3.3.4)\n",
      "Requirement already satisfied: cycler>=0.10 in c:\\users\\sarah benabdallah\\anaconda3\\lib\\site-packages (from matplotlib) (0.10.0)\n",
      "Requirement already satisfied: pillow>=6.2.0 in c:\\users\\sarah benabdallah\\anaconda3\\lib\\site-packages (from matplotlib) (8.2.0)\n",
      "Requirement already satisfied: kiwisolver>=1.0.1 in c:\\users\\sarah benabdallah\\anaconda3\\lib\\site-packages (from matplotlib) (1.3.1)\n",
      "Requirement already satisfied: pyparsing!=2.0.4,!=2.1.2,!=2.1.6,>=2.0.3 in c:\\users\\sarah benabdallah\\anaconda3\\lib\\site-packages (from matplotlib) (2.4.7)\n",
      "Requirement already satisfied: python-dateutil>=2.1 in c:\\users\\sarah benabdallah\\anaconda3\\lib\\site-packages (from matplotlib) (2.8.1)\n",
      "Requirement already satisfied: numpy>=1.15 in c:\\users\\sarah benabdallah\\anaconda3\\lib\\site-packages (from matplotlib) (1.20.1)\n",
      "Requirement already satisfied: six in c:\\users\\sarah benabdallah\\anaconda3\\lib\\site-packages (from cycler>=0.10->matplotlib) (1.15.0)\n"
     ]
    },
    {
     "name": "stdout",
     "output_type": "stream",
     "text": [
      "Requirement already satisfied: keras in c:\\users\\sarah benabdallah\\anaconda3\\lib\\site-packages (2.8.0)\n"
     ]
    }
   ],
   "source": [
    "!pip install tensorflow\n",
    "!pip install numpy\n",
    "!pip install scikit-learn\n",
    "!pip install matplotlib\n",
    "!pip install keras "
   ]
  },
  {
   "cell_type": "markdown",
   "id": "a685cbb4",
   "metadata": {},
   "source": [
    "Import Librairies"
   ]
  },
  {
   "cell_type": "code",
   "execution_count": 4,
   "id": "130c2aae",
   "metadata": {},
   "outputs": [],
   "source": [
    "from keras.models import Sequential\n",
    "from sklearn.datasets import load_digits\n",
    "from keras.utils import np_utils\n",
    "from keras.layers import Dense,Conv2D,MaxPooling2D,Flatten\n",
    "from tensorflow.keras.utils import to_categorical, plot_model\n",
    "import tensorflow as tf\n",
    "import numpy as np\n",
    "\n",
    "from sklearn.utils import shuffle\n",
    "from sklearn.model_selection import train_test_split\n",
    "from matplotlib import pyplot as plt\n",
    "from keras.models import Sequential\n",
    "import matplotlib.pyplot as plt\n",
    "from sklearn.metrics import accuracy_score\n",
    "\n",
    "from sklearn import datasets\n",
    "\n",
    "from keras.layers import Dense\n",
    "from sklearn.datasets import fetch_olivetti_faces\n",
    "from sklearn.preprocessing import StandardScaler"
   ]
  },
  {
   "cell_type": "markdown",
   "id": "fd693b84",
   "metadata": {},
   "source": [
    "EXP1: Toy Dataset"
   ]
  },
  {
   "cell_type": "code",
   "execution_count": 5,
   "id": "4c9dca9f",
   "metadata": {},
   "outputs": [],
   "source": [
    "def generate_data(mu1, mu2, sigma1, sigma2, n, input_size):\n",
    "  # the function generate_data constructs the dataset using standard deviation and mean values\n",
    "  X1 = sigma1 * np.random.randn(n//2,input_size) + mu1\n",
    "  X2 = sigma2 * np.random.randn(n//2,input_size) + mu2\n",
    "  X =  np.concatenate((X1,X2))\n",
    "  Y1 = -1*np.ones(n//2, dtype=int)\n",
    "  Y2 = np.ones(n//2, dtype=int)\n",
    "  y = np.concatenate((Y1,Y2))\n",
    "  return X, y"
   ]
  },
  {
   "cell_type": "code",
   "execution_count": 6,
   "id": "17ea2081",
   "metadata": {},
   "outputs": [],
   "source": [
    "def plot_dataset(input,target,title=\"Plot_dataset\"):\n",
    "  # function plot_dataset to plot \n",
    "  fig, ax = plt.subplots()\n",
    "  scatter = plt.scatter(input[:,0], input[:,1], c=target, cmap=\"summer\")\n",
    "  legend = ax.legend(*scatter.legend_elements())\n",
    "  plt.gca().set_ylim([-8, 8])\n",
    "  ax.add_artist(legend)\n",
    "  plt.title(title)\n",
    "  plt.show()"
   ]
  },
  {
   "cell_type": "code",
   "execution_count": 7,
   "id": "dd9dd341",
   "metadata": {},
   "outputs": [
    {
     "data": {
      "image/png": "[encoded data removed]",
      "text/plain": [
       "<Figure size 432x288 with 1 Axes>"
      ]
     },
     "metadata": {
      "needs_background": "light"
     },
     "output_type": "display_data"
    }
   ],
   "source": [
    "sigma1 = 0.25\n",
    "sigma2 = 0.25\n",
    "input_size = 2\n",
    "mu1 = np.array([-1, 0])\n",
    "mu2 = np.array([1, 0])\n",
    "\n",
    "X,y = generate_data(mu1, mu2, sigma1, sigma2, 250 , input_size)\n",
    "X_train, X_test, y_train, y_test = train_test_split(X, y, test_size=0.20, random_state=42,shuffle=True)\n",
    "plot_dataset(X_train, y_train)"
   ]
  },
  {
   "cell_type": "code",
   "execution_count": 8,
   "id": "869cf7ae",
   "metadata": {},
   "outputs": [
    {
     "name": "stdout",
     "output_type": "stream",
     "text": [
      "Model: \"sequential\"\n",
      "_________________________________________________________________\n",
      " Layer (type)                Output Shape              Param #   \n",
      "=================================================================\n",
      " dense (Dense)               (None, 2)                 6         \n",
      "                                                                 \n",
      "=================================================================\n",
      "Total params: 6\n",
      "Trainable params: 6\n",
      "Non-trainable params: 0\n",
      "_________________________________________________________________\n"
     ]
    }
   ],
   "source": [
    "# model definition\n",
    "model = Sequential([Dense(2, input_dim=2, activation='softmax'),])\n",
    "model.summary()"
   ]
  },
  {
   "cell_type": "code",
   "execution_count": 9,
   "id": "228979fb",
   "metadata": {},
   "outputs": [],
   "source": [
    "# labels to categories transformation\n",
    "y_train_cat = to_categorical(y_train, num_classes=2)\n",
    "y_test_cat = to_categorical(y_test, num_classes=2)"
   ]
  },
  {
   "cell_type": "code",
   "execution_count": 10,
   "id": "eb9842ad",
   "metadata": {},
   "outputs": [
    {
     "name": "stdout",
     "output_type": "stream",
     "text": [
      "Epoch 1/20\n",
      "50/50 [==============================] - 0s 941us/step - loss: 0.6968 - accuracy: 0.4900\n",
      "Epoch 2/20\n",
      "50/50 [==============================] - 0s 958us/step - loss: 0.6717 - accuracy: 0.6200\n",
      "Epoch 3/20\n",
      "50/50 [==============================] - 0s 878us/step - loss: 0.6474 - accuracy: 0.9600\n",
      "Epoch 4/20\n",
      "50/50 [==============================] - 0s 804us/step - loss: 0.6242 - accuracy: 1.0000\n",
      "Epoch 5/20\n",
      "50/50 [==============================] - 0s 837us/step - loss: 0.6019 - accuracy: 1.0000\n",
      "Epoch 6/20\n",
      "50/50 [==============================] - 0s 910us/step - loss: 0.5804 - accuracy: 1.0000\n",
      "Epoch 7/20\n",
      "50/50 [==============================] - 0s 739us/step - loss: 0.5598 - accuracy: 1.0000\n",
      "Epoch 8/20\n",
      "50/50 [==============================] - 0s 760us/step - loss: 0.5400 - accuracy: 1.0000\n",
      "Epoch 9/20\n",
      "50/50 [==============================] - 0s 1ms/step - loss: 0.5210 - accuracy: 1.0000\n",
      "Epoch 10/20\n",
      "50/50 [==============================] - 0s 835us/step - loss: 0.5028 - accuracy: 1.0000\n",
      "Epoch 11/20\n",
      "50/50 [==============================] - 0s 762us/step - loss: 0.4851 - accuracy: 1.0000\n",
      "Epoch 12/20\n",
      "50/50 [==============================] - 0s 847us/step - loss: 0.4684 - accuracy: 1.0000\n",
      "Epoch 13/20\n",
      "50/50 [==============================] - 0s 820us/step - loss: 0.4522 - accuracy: 1.0000\n",
      "Epoch 14/20\n",
      "50/50 [==============================] - 0s 838us/step - loss: 0.4366 - accuracy: 1.0000\n",
      "Epoch 15/20\n",
      "50/50 [==============================] - 0s 756us/step - loss: 0.4218 - accuracy: 1.0000\n",
      "Epoch 16/20\n",
      "50/50 [==============================] - 0s 857us/step - loss: 0.4075 - accuracy: 1.0000\n",
      "Epoch 17/20\n",
      "50/50 [==============================] - 0s 699us/step - loss: 0.3937 - accuracy: 1.0000\n",
      "Epoch 18/20\n",
      "50/50 [==============================] - 0s 799us/step - loss: 0.3806 - accuracy: 1.0000\n",
      "Epoch 19/20\n",
      "50/50 [==============================] - 0s 762us/step - loss: 0.3679 - accuracy: 1.0000\n",
      "Epoch 20/20\n",
      "50/50 [==============================] - 0s 852us/step - loss: 0.3558 - accuracy: 1.0000\n",
      "2/2 [==============================] - 0s 3ms/step - loss: 0.3492 - accuracy: 1.0000\n",
      "2/2 [==============================] - 0s 3ms/step - loss: 0.3492 - accuracy: 1.0000\n",
      "Model acccuracy: 1.0\n"
     ]
    }
   ],
   "source": [
    "# model compilation\n",
    "model.compile(loss='binary_crossentropy',optimizer='adam',metrics=['accuracy'])\n",
    "# model training\n",
    "model.fit(X_train, y_train_cat, epochs=20, batch_size=4)\n",
    "model.evaluate(X_test,y_test_cat)\n",
    "print('Model acccuracy:',model.evaluate(X_test,y_test_cat)[1])"
   ]
  },
  {
   "cell_type": "markdown",
   "id": "b2ed8da6",
   "metadata": {},
   "source": [
    "=> We can see that the model has reached 100% accuracy, which is to be expected given that the data is linearly separable."
   ]
  },
  {
   "cell_type": "markdown",
   "id": "f7b25a21",
   "metadata": {},
   "source": [
    "EXP2: Iris Dataset"
   ]
  },
  {
   "cell_type": "code",
   "execution_count": 11,
   "id": "a7b43376",
   "metadata": {},
   "outputs": [
    {
     "data": {
      "text/plain": [
       "([], [])"
      ]
     },
     "execution_count": 11,
     "metadata": {},
     "output_type": "execute_result"
    },
    {
     "data": {
      "image/png": "[encoded data removed]",
      "text/plain": [
       "<Figure size 432x288 with 1 Axes>"
      ]
     },
     "metadata": {},
     "output_type": "display_data"
    }
   ],
   "source": [
    "iris = datasets.load_iris()\n",
    "# extracting the first two features.\n",
    "X = iris.data[:, :2]  \n",
    "y = iris.target\n",
    "\n",
    "x_min, x_max = X[:, 0].min() - 0.5, X[:, 0].max() + 0.5\n",
    "y_min, y_max = X[:, 1].min() - 0.5, X[:, 1].max() + 0.5\n",
    "\n",
    "plt.figure(2, figsize=(6, 4))\n",
    "plt.clf()\n",
    "\n",
    "# Plotting the points\n",
    "plt.scatter(X[:, 0], X[:, 1], c=y, cmap=plt.cm.Set2, edgecolor=\"k\")\n",
    "plt.xlabel(\"Sepal length\")\n",
    "plt.ylabel(\"Sepal width\")\n",
    "\n",
    "plt.xlim(x_min, x_max)\n",
    "plt.ylim(y_min, y_max)\n",
    "plt.xticks(())\n",
    "plt.yticks(())"
   ]
  },
  {
   "cell_type": "code",
   "execution_count": 12,
   "id": "0d31df18",
   "metadata": {},
   "outputs": [],
   "source": [
    "X_train, X_test, y_train, y_test = train_test_split(X, y, test_size=0.2, random_state=42)\n",
    "y_train = to_categorical(y_train, 3)\n",
    "y_test = to_categorical(y_test, 3)"
   ]
  },
  {
   "cell_type": "code",
   "execution_count": 13,
   "id": "6ecac2d3",
   "metadata": {},
   "outputs": [
    {
     "name": "stdout",
     "output_type": "stream",
     "text": [
      "Model: \"model_1\"\n",
      "_________________________________________________________________\n",
      " Layer (type)                Output Shape              Param #   \n",
      "=================================================================\n",
      " dense_1 (Dense)             (None, 10)                30        \n",
      "                                                                 \n",
      " dense_2 (Dense)             (None, 3)                 33        \n",
      "                                                                 \n",
      "=================================================================\n",
      "Total params: 63\n",
      "Trainable params: 63\n",
      "Non-trainable params: 0\n",
      "_________________________________________________________________\n",
      "Model: \"model_2\"\n",
      "_________________________________________________________________\n",
      " Layer (type)                Output Shape              Param #   \n",
      "=================================================================\n",
      " dense_3 (Dense)             (None, 10)                30        \n",
      "                                                                 \n",
      " dense_4 (Dense)             (None, 10)                110       \n",
      "                                                                 \n",
      " dense_5 (Dense)             (None, 3)                 33        \n",
      "                                                                 \n",
      "=================================================================\n",
      "Total params: 173\n",
      "Trainable params: 173\n",
      "Non-trainable params: 0\n",
      "_________________________________________________________________\n",
      "Model: \"model_3\"\n",
      "_________________________________________________________________\n",
      " Layer (type)                Output Shape              Param #   \n",
      "=================================================================\n",
      " dense_6 (Dense)             (None, 10)                30        \n",
      "                                                                 \n",
      " dense_7 (Dense)             (None, 10)                110       \n",
      "                                                                 \n",
      " dense_8 (Dense)             (None, 10)                110       \n",
      "                                                                 \n",
      " dense_9 (Dense)             (None, 3)                 33        \n",
      "                                                                 \n",
      "=================================================================\n",
      "Total params: 283\n",
      "Trainable params: 283\n",
      "Non-trainable params: 0\n",
      "_________________________________________________________________\n",
      "Model: \"model_4\"\n",
      "_________________________________________________________________\n",
      " Layer (type)                Output Shape              Param #   \n",
      "=================================================================\n",
      " dense_10 (Dense)            (None, 10)                30        \n",
      "                                                                 \n",
      " dense_11 (Dense)            (None, 10)                110       \n",
      "                                                                 \n",
      " dense_12 (Dense)            (None, 10)                110       \n",
      "                                                                 \n",
      " dense_13 (Dense)            (None, 10)                110       \n",
      "                                                                 \n",
      " dense_14 (Dense)            (None, 3)                 33        \n",
      "                                                                 \n",
      "=================================================================\n",
      "Total params: 393\n",
      "Trainable params: 393\n",
      "Non-trainable params: 0\n",
      "_________________________________________________________________\n"
     ]
    }
   ],
   "source": [
    "#precision = tp / (tp + fp) => The precision is intuitively the ability of the classifier not to label as positive a sample that is negative.\n",
    "def precision(y_true, y_pred):\n",
    "    y_true = K.ones_like(y_true) \n",
    "    true_positives = K.sum(K.round(K.clip(y_true * y_pred, 0, 1)))\n",
    "    \n",
    "    predicted_positives = K.sum(K.round(K.clip(y_pred, 0, 1)))\n",
    "    precision = true_positives / (predicted_positives + K.epsilon())\n",
    "    return precision\n",
    "\n",
    "#The recall = tp / (tp + fn) => The recall is intuitively the ability of the classifier to find all the positive samples\n",
    "def recall(y_true, y_pred):\n",
    "    y_true = K.ones_like(y_true) \n",
    "    true_positives = K.sum(K.round(K.clip(y_true * y_pred, 0, 1)))\n",
    "    all_positives = K.sum(K.round(K.clip(y_true, 0, 1)))\n",
    "    \n",
    "    recall = true_positives / (all_positives + K.epsilon())\n",
    "    return recall\n",
    "\n",
    "\n",
    "\n",
    "def f1_score(y_true, y_pred):\n",
    "    precision = precision_m(y_true, y_pred)\n",
    "    recall = recall_m(y_true, y_pred)\n",
    "    return 2*((precision*recall)/(precision+recall+K.epsilon()))\n",
    "\n",
    "def create_keras_model(input_dim, output_dim, nodes, layers=1, name='model'):\n",
    "    def create_model():\n",
    "        # Create model\n",
    "        model = Sequential(name=name)\n",
    "        for i in range(layers):\n",
    "            model.add(Dense(nodes, input_dim=input_dim, activation='relu'))\n",
    "        model.add(Dense(output_dim, activation='softmax'))\n",
    "\n",
    "        # Compile model\n",
    "        model.compile(loss='categorical_crossentropy', \n",
    "                      optimizer='adam', \n",
    "                      metrics=['accuracy', \n",
    "                               tf.keras.metrics.Precision(), \n",
    "                               tf.keras.metrics.Recall(), \n",
    "                               tf.keras.metrics.AUC()])\n",
    "                      \n",
    "        return model\n",
    "    return create_model\n",
    "# Creating multiple models\n",
    "# Output dimension is 3 , so we have 3 classes to work with\n",
    "models = [create_keras_model(X_train.shape[1], 3, 10, i, 'model_{}'.format(i)) \n",
    "          for i in range(1, 5)]\n",
    "\n",
    "for create_model in models:\n",
    "    create_model().summary()\n",
    "    \n"
   ]
  },
  {
   "cell_type": "code",
   "execution_count": 14,
   "id": "61b06e88",
   "metadata": {},
   "outputs": [
    {
     "name": "stdout",
     "output_type": "stream",
     "text": [
      "Model name: model_1\n",
      "Test loss: 0.59505695104599\n",
      "Test accuracy: 0.8666666746139526\n",
      "Test precision: 0.8888888955116272\n",
      "Test recall: 0.5333333611488342\n",
      "Test f1_score: 0.949999988079071\n",
      "Model name: model_2\n",
      "Test loss: 0.5021652579307556\n",
      "Test accuracy: 0.8666666746139526\n",
      "Test precision: 0.8636363744735718\n",
      "Test recall: 0.6333333253860474\n",
      "Test f1_score: 0.9516667127609253\n",
      "Model name: model_3\n",
      "Test loss: 0.4247357249259949\n",
      "Test accuracy: 0.8666666746139526\n",
      "Test precision: 0.8666666746139526\n",
      "Test recall: 0.8666666746139526\n",
      "Test f1_score: 0.9461110830307007\n",
      "Model name: model_4\n",
      "WARNING:tensorflow:5 out of the last 8 calls to <function Model.make_test_function.<locals>.test_function at 0x000001F1E454DDC0> triggered tf.function retracing. Tracing is expensive and the excessive number of tracings could be due to (1) creating @tf.function repeatedly in a loop, (2) passing tensors with different shapes, (3) passing Python objects instead of tensors. For (1), please define your @tf.function outside of the loop. For (2), @tf.function has experimental_relax_shapes=True option that relaxes argument shapes that can avoid unnecessary retracing. For (3), please refer to https://www.tensorflow.org/guide/function#controlling_retracing and https://www.tensorflow.org/api_docs/python/tf/function for  more details.\n",
      "Test loss: 0.43926724791526794\n",
      "Test accuracy: 0.800000011920929\n",
      "Test precision: 0.800000011920929\n",
      "Test recall: 0.800000011920929\n",
      "Test f1_score: 0.9488888382911682\n"
     ]
    }
   ],
   "source": [
    "for created_model in models:\n",
    "    model = created_model()\n",
    "    print('Model name:', model.name)\n",
    "    history_callback = model.fit(X_train, y_train,\n",
    "                                 batch_size=10,\n",
    "                                 epochs=150,\n",
    "                                 verbose=0\n",
    "                                 )\n",
    "    score = model.evaluate(X_test, y_test, verbose=0)\n",
    "    print('Test loss:', score[0])\n",
    "    print('Test accuracy:', score[1])\n",
    "    print('Test precision:', score[2])\n",
    "    print('Test recall:', score[3])\n",
    "    print('Test f1_score:', score[4])"
   ]
  },
  {
   "cell_type": "markdown",
   "id": "9304ca8d",
   "metadata": {},
   "source": [
    "EXP 3: Digits Dataset"
   ]
  },
  {
   "cell_type": "code",
   "execution_count": 15,
   "id": "b11d506b",
   "metadata": {},
   "outputs": [
    {
     "data": {
      "text/plain": [
       "<Figure size 432x288 with 0 Axes>"
      ]
     },
     "metadata": {},
     "output_type": "display_data"
    },
    {
     "data": {
      "image/png": "[encoded data removed]",
      "text/plain": [
       "<Figure size 288x288 with 1 Axes>"
      ]
     },
     "metadata": {
      "needs_background": "light"
     },
     "output_type": "display_data"
    }
   ],
   "source": [
    "digits = load_digits()\n",
    "plt.gray()\n",
    "plt.matshow(digits.images[1])\n",
    "plt.show()"
   ]
  },
  {
   "cell_type": "code",
   "execution_count": 16,
   "id": "999dfa2a",
   "metadata": {},
   "outputs": [
    {
     "name": "stdout",
     "output_type": "stream",
     "text": [
      "(1797, 64)\n",
      "(1797,)\n"
     ]
    }
   ],
   "source": [
    "yDigit = digits.target\n",
    "x_digits = digits.images.reshape((len(digits.images), -1))\n",
    "print(x_digits.shape)\n",
    "print(yDigit.shape)\n"
   ]
  },
  {
   "cell_type": "code",
   "execution_count": 17,
   "id": "576c6810",
   "metadata": {},
   "outputs": [
    {
     "name": "stdout",
     "output_type": "stream",
     "text": [
      "(1437, 64)\n",
      "(1437, 10)\n"
     ]
    }
   ],
   "source": [
    "y_digits = np_utils.to_categorical(digits.target,10)\n",
    "train_img, test_img, train_label, test_label = train_test_split(x_digits, y_digits, test_size=0.2, random_state=0)\n",
    "def plot_sample(X, y, index):\n",
    "    plt.imshow(X[index])        \n",
    "    plt.xlabel(y[index])\n",
    "print(train_img.shape)\n",
    "print(train_label.shape)"
   ]
  },
  {
   "cell_type": "code",
   "execution_count": 18,
   "id": "156f3dec",
   "metadata": {},
   "outputs": [
    {
     "name": "stdout",
     "output_type": "stream",
     "text": [
      "Model: \"model_1\"\n",
      "_________________________________________________________________\n",
      " Layer (type)                Output Shape              Param #   \n",
      "=================================================================\n",
      " dense_29 (Dense)            (None, 10)                650       \n",
      "                                                                 \n",
      " dense_30 (Dense)            (None, 10)                110       \n",
      "                                                                 \n",
      "=================================================================\n",
      "Total params: 760\n",
      "Trainable params: 760\n",
      "Non-trainable params: 0\n",
      "_________________________________________________________________\n",
      "Model: \"model_2\"\n",
      "_________________________________________________________________\n",
      " Layer (type)                Output Shape              Param #   \n",
      "=================================================================\n",
      " dense_31 (Dense)            (None, 10)                650       \n",
      "                                                                 \n",
      " dense_32 (Dense)            (None, 10)                110       \n",
      "                                                                 \n",
      " dense_33 (Dense)            (None, 10)                110       \n",
      "                                                                 \n",
      "=================================================================\n",
      "Total params: 870\n",
      "Trainable params: 870\n",
      "Non-trainable params: 0\n",
      "_________________________________________________________________\n",
      "Model: \"model_3\"\n",
      "_________________________________________________________________\n",
      " Layer (type)                Output Shape              Param #   \n",
      "=================================================================\n",
      " dense_34 (Dense)            (None, 10)                650       \n",
      "                                                                 \n",
      " dense_35 (Dense)            (None, 10)                110       \n",
      "                                                                 \n",
      " dense_36 (Dense)            (None, 10)                110       \n",
      "                                                                 \n",
      " dense_37 (Dense)            (None, 10)                110       \n",
      "                                                                 \n",
      "=================================================================\n",
      "Total params: 980\n",
      "Trainable params: 980\n",
      "Non-trainable params: 0\n",
      "_________________________________________________________________\n",
      "Model: \"model_4\"\n",
      "_________________________________________________________________\n",
      " Layer (type)                Output Shape              Param #   \n",
      "=================================================================\n",
      " dense_38 (Dense)            (None, 10)                650       \n",
      "                                                                 \n",
      " dense_39 (Dense)            (None, 10)                110       \n",
      "                                                                 \n",
      " dense_40 (Dense)            (None, 10)                110       \n",
      "                                                                 \n",
      " dense_41 (Dense)            (None, 10)                110       \n",
      "                                                                 \n",
      " dense_42 (Dense)            (None, 10)                110       \n",
      "                                                                 \n",
      "=================================================================\n",
      "Total params: 1,090\n",
      "Trainable params: 1,090\n",
      "Non-trainable params: 0\n",
      "_________________________________________________________________\n",
      "Model: \"model_5\"\n",
      "_________________________________________________________________\n",
      " Layer (type)                Output Shape              Param #   \n",
      "=================================================================\n",
      " dense_43 (Dense)            (None, 10)                650       \n",
      "                                                                 \n",
      " dense_44 (Dense)            (None, 10)                110       \n",
      "                                                                 \n",
      " dense_45 (Dense)            (None, 10)                110       \n",
      "                                                                 \n",
      " dense_46 (Dense)            (None, 10)                110       \n",
      "                                                                 \n",
      " dense_47 (Dense)            (None, 10)                110       \n",
      "                                                                 \n",
      " dense_48 (Dense)            (None, 10)                110       \n",
      "                                                                 \n",
      "=================================================================\n",
      "Total params: 1,200\n",
      "Trainable params: 1,200\n",
      "Non-trainable params: 0\n",
      "_________________________________________________________________\n"
     ]
    }
   ],
   "source": [
    "# Creating multiple models\n",
    "# Output dimension is 10 , we have 10 classes to work with\n",
    "models = [create_keras_model(train_img.shape[1], 10, 10, i, 'model_{}'.format(i)) \n",
    "          for i in range(1, 6)]\n",
    "for create_model in models:\n",
    "    create_model().summary()"
   ]
  },
  {
   "cell_type": "code",
   "execution_count": 19,
   "id": "a059ef76",
   "metadata": {},
   "outputs": [
    {
     "name": "stdout",
     "output_type": "stream",
     "text": [
      "Model_name: model_1\n",
      "WARNING:tensorflow:6 out of the last 9 calls to <function Model.make_test_function.<locals>.test_function at 0x000001F1E9DDE820> triggered tf.function retracing. Tracing is expensive and the excessive number of tracings could be due to (1) creating @tf.function repeatedly in a loop, (2) passing tensors with different shapes, (3) passing Python objects instead of tensors. For (1), please define your @tf.function outside of the loop. For (2), @tf.function has experimental_relax_shapes=True option that relaxes argument shapes that can avoid unnecessary retracing. For (3), please refer to https://www.tensorflow.org/guide/function#controlling_retracing and https://www.tensorflow.org/api_docs/python/tf/function for  more details.\n",
      "Test loss: 0.30385860800743103\n",
      "Test accuracy: 0.949999988079071\n",
      "Test precision: 0.949999988079071\n",
      "Test recall: 0.949999988079071\n",
      "Test f1_score: 0.9876440763473511\n",
      "Model_name: model_2\n",
      "Test loss: 0.28308260440826416\n",
      "Test accuracy: 0.9444444179534912\n",
      "Test precision: 0.9444444179534912\n",
      "Test recall: 0.9444444179534912\n",
      "Test f1_score: 0.9904252290725708\n",
      "Model_name: model_3\n",
      "Test loss: 0.328421413898468\n",
      "Test accuracy: 0.9694444537162781\n",
      "Test precision: 0.9693593382835388\n",
      "Test recall: 0.9666666388511658\n",
      "Test f1_score: 0.98805171251297\n",
      "Model_name: model_4\n",
      "Test loss: 0.50824373960495\n",
      "Test accuracy: 0.9388889074325562\n",
      "Test precision: 0.941504180431366\n",
      "Test recall: 0.9388889074325562\n",
      "Test f1_score: 0.9772235751152039\n",
      "Model_name: model_5\n",
      "Test loss: 0.5531978011131287\n",
      "Test accuracy: 0.9388889074325562\n",
      "Test precision: 0.9388889074325562\n",
      "Test recall: 0.9388889074325562\n",
      "Test f1_score: 0.9826861619949341\n"
     ]
    }
   ],
   "source": [
    "for created_model in models:\n",
    "    model = created_model()\n",
    "    print('Model_name:', model.name)\n",
    "    callback = model.fit(train_img, train_label,\n",
    "                                 batch_size=10,\n",
    "                                 epochs=150,\n",
    "                                 verbose=0\n",
    "                                 )\n",
    "    score = model.evaluate(test_img, test_label, verbose=0)\n",
    "    print('Test loss:', score[0])\n",
    "    print('Test accuracy:', score[1])\n",
    "    print('Test precision:', score[2])\n",
    "    print('Test recall:', score[3])\n",
    "    print('Test f1_score:', score[4])"
   ]
  },
  {
   "cell_type": "code",
   "execution_count": null,
   "id": "f6363bab",
   "metadata": {},
   "outputs": [],
   "source": []
  }
 ],
 "metadata": {
  "kernelspec": {
   "display_name": "Python 3",
   "language": "python",
   "name": "python3"
  },
  "language_info": {
   "codemirror_mode": {
    "name": "ipython",
    "version": 3
   },
   "file_extension": ".py",
   "mimetype": "text/x-python",
   "name": "python",
   "nbconvert_exporter": "python",
   "pygments_lexer": "ipython3",
   "version": "3.8.8"
  }
 },
 "nbformat": 4,
 "nbformat_minor": 5
}
